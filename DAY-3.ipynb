{
 "cells": [
  {
   "cell_type": "markdown",
   "id": "6ca26bb9-62de-4a3b-85e8-1f7570adeb96",
   "metadata": {},
   "source": [
    "LIST\n"
   ]
  },
  {
   "cell_type": "code",
   "execution_count": 2,
   "id": "001ec046-c449-49d4-adac-d717e36f9963",
   "metadata": {},
   "outputs": [
    {
     "name": "stdout",
     "output_type": "stream",
     "text": [
      "3\n",
      "ab\n",
      "[1, 2, 3, 1, 2, 3]\n",
      "[1, 2, 3, 1, 2, 3, 1, 2, 3]\n"
     ]
    }
   ],
   "source": [
    "list1 = [1,2,3]\n",
    "list2 = [1,2,3]\n",
    "print(1 + 2)\n",
    "print(\"a\" + \"b\")\n",
    "list3 = list1 + list2\n",
    "print(list3)\n",
    "print(list1 * 3)\n"
   ]
  },
  {
   "cell_type": "markdown",
   "id": "a1fca06d-a28c-4d99-bc2b-bf79d0fd4d7a",
   "metadata": {},
   "source": [
    "TUPLES"
   ]
  },
  {
   "cell_type": "code",
   "execution_count": 3,
   "id": "841a0990-d8eb-48c1-82e1-3c028e86952e",
   "metadata": {},
   "outputs": [
    {
     "name": "stdout",
     "output_type": "stream",
     "text": [
      "======= TUPLES =======\n"
     ]
    },
    {
     "data": {
      "text/plain": [
       "()"
      ]
     },
     "execution_count": 3,
     "metadata": {},
     "output_type": "execute_result"
    }
   ],
   "source": [
    "print(\"======= TUPLES =======\")\n",
    "tup1 = ()\n",
    "tup1"
   ]
  },
  {
   "cell_type": "code",
   "execution_count": 4,
   "id": "89f9d969-a264-4323-bc6b-81488221907d",
   "metadata": {},
   "outputs": [
    {
     "data": {
      "text/plain": [
       "tuple"
      ]
     },
     "execution_count": 4,
     "metadata": {},
     "output_type": "execute_result"
    }
   ],
   "source": [
    "tup1 = (50 , )\n",
    "type(tup1)"
   ]
  },
  {
   "cell_type": "code",
   "execution_count": 5,
   "id": "96fb76c6-41aa-49c8-b3c9-57b00ae3b1f5",
   "metadata": {},
   "outputs": [
    {
     "name": "stdout",
     "output_type": "stream",
     "text": [
      "360digiTMG\n",
      "('Aditya', '360digiTMG', 'Vespa', 2003, (11+22j), False)\n",
      "(22, 33, 44, 55, 66)\n"
     ]
    }
   ],
   "source": [
    "tup1 = ('Aditya', '360digiTMG', 'Vespa', 2003, 11+22j, False)\n",
    "print(tup1[1])\n",
    "print(tup1)\n",
    "tup2 = (11,22,33,44,55,66,77)\n",
    "print(tup2[1:6])\n",
    "\n"
   ]
  },
  {
   "cell_type": "code",
   "execution_count": 6,
   "id": "a6c2c9db-eb68-4c43-a3d2-bd57cf71b915",
   "metadata": {},
   "outputs": [
    {
     "name": "stdout",
     "output_type": "stream",
     "text": [
      "(11, 22, 11.22, 'sep', 'oct')\n"
     ]
    }
   ],
   "source": [
    "tup1 = (11,22,11.22)\n",
    "tup2 = (\"sep\" , \"oct\")\n",
    "tup3 = tup1 + tup2\n",
    "print(tup3)"
   ]
  },
  {
   "cell_type": "code",
   "execution_count": 7,
   "id": "14998b3d-2081-4e6b-ad1b-ee1cc98b5d68",
   "metadata": {},
   "outputs": [
    {
     "name": "stdout",
     "output_type": "stream",
     "text": [
      "1\n",
      "4\n"
     ]
    }
   ],
   "source": [
    "tup = (1,2,3,4,5,3,3,6,7,3)\n",
    "print(tup.index(2))\n",
    "print(tup.count(3))"
   ]
  },
  {
   "cell_type": "code",
   "execution_count": 8,
   "id": "f6f7fa5e-ef6a-4ec0-abd9-39adca1b2cd7",
   "metadata": {},
   "outputs": [
    {
     "name": "stdout",
     "output_type": "stream",
     "text": [
      "('Mani sai', 'Jaggu', 'Vignesh', 'Sankeerth')\n"
     ]
    }
   ],
   "source": [
    "tup = (\"Mani sai\", \"Jaggu\", \"Vignesh\", \"Sankeerth\")\n",
    "print(tup)\n",
    "#del(tup)     ->Here tup will be deleted. If u print tup, its say's tht tup is not defined\n"
   ]
  },
  {
   "cell_type": "markdown",
   "id": "1f7e3fb1-1fbc-4dfc-8268-e93dcd82bcf5",
   "metadata": {},
   "source": [
    "SETS"
   ]
  },
  {
   "cell_type": "code",
   "execution_count": 9,
   "id": "b8f9182a-e9e3-4cfa-a742-8594a1d6ab99",
   "metadata": {},
   "outputs": [
    {
     "name": "stdout",
     "output_type": "stream",
     "text": [
      "{33, 11, 22}\n"
     ]
    }
   ],
   "source": [
    "Mani = {11,22,33}\n",
    "print(Mani)\n"
   ]
  },
  {
   "cell_type": "code",
   "execution_count": 10,
   "id": "0b86fb2a-0176-4812-87f8-2755f842dbb4",
   "metadata": {},
   "outputs": [
    {
     "name": "stdout",
     "output_type": "stream",
     "text": [
      "{'b', 'a', 'd', 'c'}\n"
     ]
    }
   ],
   "source": [
    "normal_set = set(['a', 'b', 'c', 'd'])\n",
    "print(normal_set)"
   ]
  },
  {
   "cell_type": "code",
   "execution_count": 11,
   "id": "a935c3d5-c82e-4bfa-8efd-27ce0ffd787e",
   "metadata": {},
   "outputs": [
    {
     "name": "stdout",
     "output_type": "stream",
     "text": [
      "{1, 2, 3, 4, 5, 6, 7}\n"
     ]
    }
   ],
   "source": [
    "# Converting a list into a set\n",
    "my_list = [1,2,3,4,5,6,7]\n",
    "my_set = set(my_list)\n",
    "print(my_set)"
   ]
  },
  {
   "cell_type": "code",
   "execution_count": 14,
   "id": "c7e42756-0efc-4bbd-865c-f3c5de6fc7f0",
   "metadata": {},
   "outputs": [
    {
     "name": "stdout",
     "output_type": "stream",
     "text": [
      "set()\n",
      "{3}\n"
     ]
    }
   ],
   "source": [
    "#Operation on sets\n",
    "set1 = {1,2,3}\n",
    "set2 = {4,5,6}\n",
    "# Find the intersection of set1 and set2\n",
    "intersection_set1 = set1.intersection(set2)\n",
    "print(intersection_set1)    #Here ntng is common in both the sets\n",
    "set3 = {1,2,3}\n",
    "set4 = {3,4,5}\n",
    "intersection_set2 = set3.intersection(set4)\n",
    "print(intersection_set2)    #Here, 3 is common in both the sets\n"
   ]
  },
  {
   "cell_type": "code",
   "execution_count": 19,
   "id": "8fafb3ed-e297-462e-aa6d-48e2343bfa98",
   "metadata": {},
   "outputs": [
    {
     "name": "stdout",
     "output_type": "stream",
     "text": [
      "Intersection of set1 & set2 is: set3 = {1}\n"
     ]
    }
   ],
   "source": [
    "# intersection function can be represented as (&) \n",
    "set1 = {1, 2, 3}\n",
    "set2 = {1, 9, 0}\n",
    "set3 = set1 & set2\n",
    "print(\"Intersection of set1 & set2 is: set3 =\", set3)"
   ]
  },
  {
   "cell_type": "code",
   "execution_count": 20,
   "id": "ddf9f8f9-1104-4518-b9d3-dcd74b9c939c",
   "metadata": {},
   "outputs": [
    {
     "name": "stdout",
     "output_type": "stream",
     "text": [
      "set1 U set2 :  {2, 4, 5, 6, 7, 8}\n",
      "Union of set1 & set2 is: set3 = {2, 4, 5, 6, 7, 8}\n"
     ]
    }
   ],
   "source": [
    "# union() function\n",
    "set1 = {2, 4, 5, 6}\n",
    "set2 = {4, 6, 7, 8}\n",
    "\n",
    "# Union of two sets\n",
    "print(\"set1 U set2 : \", set1.union(set2))\n",
    "\n",
    "# union() function can be represented as vertical slash (|) which is pipe delimiter\n",
    "\n",
    "set1 = {2, 4, 5, 6}\n",
    "set2 = {4, 6, 7, 8}\n",
    "\n",
    "set3 = set1 | set2\n",
    "print(\"Union of set1 & set2 is: set3 =\", set3)"
   ]
  },
  {
   "cell_type": "code",
   "execution_count": 21,
   "id": "af75101d-1629-4c18-850e-c5b5eef38685",
   "metadata": {},
   "outputs": [
    {
     "name": "stdout",
     "output_type": "stream",
     "text": [
      "set1 U set2 U set3 : {2, 4, 5, 6, 7, 8, 9, 10}\n",
      "set1 | set2 | set3 : {2, 4, 5, 6, 7, 8, 9, 10}\n",
      "set1 & set2 & set3: set()\n"
     ]
    }
   ],
   "source": [
    "# Defining three sets\n",
    "set1 = {2, 4, 5, 6}\n",
    "set2 = {4, 6, 7, 8}\n",
    "set3 = {7, 8, 9, 10}\n",
    "\n",
    "# Printing the union of set1, set2, and set3\n",
    "print(\"set1 U set2 U set3 :\", set1.union(set2, set3))\n",
    "\n",
    "set4 = set1 | set2 | set3\n",
    "print(\"set1 | set2 | set3 :\",set4)   #union\n",
    "\n",
    "set5 = set1 & set2 & set3    \n",
    "print(\"set1 & set2 & set3:\",set5)   #Intersection\n"
   ]
  },
  {
   "cell_type": "code",
   "execution_count": 22,
   "id": "eb98ca73-b68f-4432-b797-d77145ccb445",
   "metadata": {},
   "outputs": [
    {
     "name": "stdout",
     "output_type": "stream",
     "text": [
      "Elements in set1 and not in set2: set3 =  {1, 2, 3}\n"
     ]
    }
   ],
   "source": [
    "# Difference between set3 and set4\n",
    "set1 = {1,2,3,4,5}\n",
    "set2 = {4,5}\n",
    "set3 = set1 - set2\n",
    "print(\"Elements in set1 and not in set2: set3 = \", set3)"
   ]
  },
  {
   "cell_type": "code",
   "execution_count": 23,
   "id": "22e14eef-4657-4e78-b124-2b7ac68618e7",
   "metadata": {},
   "outputs": [
    {
     "name": "stdout",
     "output_type": "stream",
     "text": [
      "set1 and set1 have nothing in common\n",
      "\n"
     ]
    }
   ],
   "source": [
    "# check if set1 and set2 are disjoint sets\n",
    "set1 = {1,2,3,4,5}\n",
    "set2 = {6,7,8}\n",
    "\n",
    "if set1.isdisjoint(set2): # 'if' is a conditional statement\n",
    "    print(\"set1 and set1 have nothing in common\\n\")\n"
   ]
  },
  {
   "cell_type": "code",
   "execution_count": 24,
   "id": "89ee4297-6572-4c12-aef2-6c3a95701c04",
   "metadata": {},
   "outputs": [
    {
     "name": "stdout",
     "output_type": "stream",
     "text": [
      "After applying clear on set set3: \n",
      "set3 =  set()\n"
     ]
    }
   ],
   "source": [
    "#Removing all the values of set3\n",
    "set1 = {1,2,3,4,5}\n",
    "set2 = {2,3,6,7}\n",
    "set3 = set1 - set2\n",
    "set3.clear()\n",
    "print(\"After applying clear on set set3: \")\n",
    "print(\"set3 = \", set3)"
   ]
  },
  {
   "cell_type": "code",
   "execution_count": 25,
   "id": "2f1e8627-0c18-41d1-9948-b0142e757002",
   "metadata": {},
   "outputs": [
    {
     "name": "stdout",
     "output_type": "stream",
     "text": [
      "The frozen set is: frozenset({'o', 'e', 'a', 'u', 'i'})\n"
     ]
    }
   ],
   "source": [
    "# Define a tuple of vowels\n",
    "vowels = ('a', 'e', 'i', 'o', 'u')\n",
    "# Create a frozen set from the tuple\n",
    "fSet = frozenset(vowels)\n",
    "print('The frozen set is:', fSet)\n",
    "#fSet.add('v')    \"Frozen set\" are immutable. add,pop these funtions wont work"
   ]
  },
  {
   "cell_type": "markdown",
   "id": "daec4b10-8482-4ad4-a0ea-323cd7d85e80",
   "metadata": {},
   "source": [
    "Mappings / Dictionaries"
   ]
  },
  {
   "cell_type": "code",
   "execution_count": 26,
   "id": "aa0653fc-b6bd-4e68-9dd6-631eb0669c92",
   "metadata": {},
   "outputs": [
    {
     "name": "stdout",
     "output_type": "stream",
     "text": [
      "{'Name': 'Mani Sai', 'Age': 21, 'bike': 'Vespa'}\n",
      "Mani Sai\n",
      "21\n",
      "{'Name': 'Jaggu', 'Age': 21, 'bike': 'Jupiter'}\n",
      "{'Name': 'Jaggu', 'Age': 25, 'bike': 'Jupiter'}\n",
      "----- Printing updated values ------\n",
      "\n",
      "9\n",
      "DPS School\n",
      "50000\n",
      "------ Retrieve keys, values, and items of the dictionary------\n",
      "\n",
      "dict_keys(['Name', 'Age', 'bike', 'School', 'Salary'])\n",
      "dict_values(['Jaggu', 9, 'Jupiter', 'DPS School', 50000])\n",
      "dict_items([('Name', 'Jaggu'), ('Age', 9), ('bike', 'Jupiter'), ('School', 'DPS School'), ('Salary', 50000)])\n",
      "-----Delete dictionary elements------\n",
      "\n",
      "{'Age': 9, 'bike': 'Jupiter', 'School': 'DPS School', 'Salary': 50000}\n"
     ]
    }
   ],
   "source": [
    "dict1 = {'Name': 'Mani Sai', 'Age': 21, 'bike': 'Vespa'}\n",
    "print(dict1)\n",
    "print(dict1['Name'])\n",
    "print(dict1['Age'])\n",
    "dict1 = {'Name': 'Jaggu', 'Age': 21, 'bike': 'Jupiter'}\n",
    "print(dict1)\n",
    "dict1['Age'] = 25\n",
    "print(dict1)\n",
    "\n",
    "dict1['Age'] = 9\n",
    "dict1['School'] = \"DPS School\"\n",
    "dict1['Salary'] = 50000\n",
    "print(\"----- Printing updated values ------\\n\")\n",
    "print(dict1['Age'])\n",
    "print(dict1['School'])\n",
    "print(dict1['Salary'])\n",
    "print(\"------ Retrieve keys, values, and items of the dictionary------\\n\")\n",
    "print(dict1.keys())\n",
    "print(dict1.values())\n",
    "print(dict1.items())\n",
    "print(\"-----Delete dictionary elements------\\n\")\n",
    "del(dict1['Name'])\n",
    "print(dict1)"
   ]
  },
  {
   "cell_type": "code",
   "execution_count": 27,
   "id": "d2f57639-d887-4af5-9a23-e91cce0e1adf",
   "metadata": {},
   "outputs": [
    {
     "name": "stdout",
     "output_type": "stream",
     "text": [
      "{'k1': 123, 'k2': [8, 9, 10], 'k3': {'inside_key': 100}}\n",
      "123\n",
      "[8, 9, 10]\n",
      "9\n",
      "{'inside_key': 100}\n",
      "100\n"
     ]
    }
   ],
   "source": [
    "d = {'k1': 123, 'k2': [8, 9, 10], 'k3': {'inside_key': 100}}\n",
    "print(d)\n",
    "print(d['k1'])\n",
    "print(d['k2'])\n",
    "print(d['k2'][1])\n",
    "print(d['k3'])\n",
    "print(d['k3']['inside_key'])\n"
   ]
  },
  {
   "cell_type": "code",
   "execution_count": null,
   "id": "35a6b6b3-93bc-4a36-be0f-7788d61f3b21",
   "metadata": {},
   "outputs": [],
   "source": [
    "age = int(input(\"what is your age :-\"))\n",
    "if age >= 18:\n",
    "    print( \"You are an adult.\" )\n",
    "else:\n",
    "    print(\"You are an kid.\")\n",
    "    \n",
    "Number = int(input(\"DOB:-\"))\n",
    "if Number % 2 == 0:\n",
    "    print(\"Even\")\n",
    "else:\n",
    "    print(\"odd\")\n",
    "Number = int(input(\"DOB1:-\"))\n",
    "if Number % 3 == 1:\n",
    "     print(\"Even\")\n",
    "else:\n",
    "     print(\"odd\")   \n",
    "     \n",
    "a1 = int(input(\"numbre:-\" ))\n",
    "a2 = int(input(\"number2:-\"))\n",
    "if a1 > a2:\n",
    "    print(\"we get the greater number\")\n",
    "else:\n",
    "    print(\"it not greater number\" )\n",
    "#condition Formating\n",
    "ManiSai = int(input(\"what is your marks:-\"))\n",
    "\n",
    "if ManiSai  >= 90:\n",
    "    print(\"Mani Sai Get Grade A\")\n",
    "elif ManiSai >= 75:\n",
    "    print(\"Mani Sai get Grade B\")\n",
    "elif ManiSai >= 50:\n",
    "    print(\"Mani Sai Get Grade C\")\n",
    "else:\n",
    "    print(\"false\") \n",
    "    \n",
    "naveen = int(input(\"what is your makes:-\"))\n",
    "subject =input(\"what is the subject:-\")\n",
    "\n",
    "if naveen >= 90:\n",
    "    print( f\"Naveen Get Grade A in {subject}\")\n",
    "elif naveen >= 75:\n",
    "    print(f\"Naveen Get Grade B in {subject}\")\n",
    "elif naveen >= 50:\n",
    "    print(f\"Naveen Get Grade C in {subject}\")\n",
    "else:\n",
    "    print(f\"Naveen Get fail in {subject}\")\n",
    "a = int(input(\"N1:-\"))\n",
    "b = int(input(\"N2:-\"))\n",
    "c = int(input(\"N3:-\"))\n",
    "if a>b and a>c:\n",
    "    print(\"A is the Greater Number\",a)\n",
    "elif b>a and b>c:\n",
    "    print(\"B is the Gretaer Number\",b)\n",
    "else:\n",
    "    print(\"C is the Greater Numbner\",c)\n",
    "\n",
    "a1 = int(input(\"N1:-\"))\n",
    "  \n",
    "if a1 > 0: \n",
    "  if a1 % 2 == 0:\n",
    "    print(\"A is the Even \", a1)\n",
    "  else:\n",
    "    print(\"A is Odd \", a1)\n",
    "elif a1 < 0:\n",
    "    if a1 % 2 == 0:\n",
    "      print(\"A is the Even \", a1)\n",
    "    else:\n",
    "      print(\"A is Odd \", a1)\n",
    "else:\n",
    "    print(\"A is possitive  Number:-\", a1 )"
   ]
  }
 ],
 "metadata": {
  "kernelspec": {
   "display_name": "Python [conda env:anaconda3]",
   "language": "python",
   "name": "conda-env-anaconda3-py"
  },
  "language_info": {
   "codemirror_mode": {
    "name": "ipython",
    "version": 3
   },
   "file_extension": ".py",
   "mimetype": "text/x-python",
   "name": "python",
   "nbconvert_exporter": "python",
   "pygments_lexer": "ipython3",
   "version": "3.13.5"
  }
 },
 "nbformat": 4,
 "nbformat_minor": 5
}
