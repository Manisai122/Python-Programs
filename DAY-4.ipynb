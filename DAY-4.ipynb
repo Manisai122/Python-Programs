{
 "cells": [
  {
   "cell_type": "code",
   "execution_count": 35,
   "id": "d91ba5c0-5938-4224-9a62-018073992cc3",
   "metadata": {},
   "outputs": [
    {
     "name": "stdout",
     "output_type": "stream",
     "text": [
      "======Prime numbers=======\n",
      "2\n",
      "3\n",
      "5\n",
      "7\n",
      "11\n",
      "13\n",
      "17\n",
      "19\n",
      "23\n",
      "29\n",
      "31\n",
      "37\n",
      "41\n",
      "43\n",
      "47\n",
      "53\n",
      "59\n",
      "61\n",
      "67\n",
      "71\n",
      "73\n",
      "79\n",
      "83\n",
      "89\n",
      "97\n"
     ]
    }
   ],
   "source": [
    "print(\"======Prime numbers=======\")\n",
    "for num in range(2,101):\n",
    "    for i in range(2,num):\n",
    "        if num % i == 0:\n",
    "            break\n",
    "    else:\n",
    "        print(num)"
   ]
  },
  {
   "cell_type": "code",
   "execution_count": 34,
   "id": "8c627de0-36cc-4ca8-a160-500ac2100225",
   "metadata": {},
   "outputs": [
    {
     "name": "stdin",
     "output_type": "stream",
     "text": [
      "Enter the number: 234\n"
     ]
    },
    {
     "name": "stdout",
     "output_type": "stream",
     "text": [
      "9\n"
     ]
    }
   ],
   "source": [
    "number = input(\"Enter the number:\")\n",
    "sum = 0\n",
    "for num in number:\n",
    "    sum += int(num)\n",
    "print(sum)"
   ]
  },
  {
   "cell_type": "markdown",
   "id": "447e3409-9a8d-47dc-9ad0-8224613e44e8",
   "metadata": {},
   "source": [
    "LOOPS"
   ]
  },
  {
   "cell_type": "code",
   "execution_count": 1,
   "id": "1e3737d6-c86e-4816-94aa-1a48f5256d39",
   "metadata": {},
   "outputs": [
    {
     "name": "stdout",
     "output_type": "stream",
     "text": [
      "Your name is : Mani\n",
      "Your name is : Jaggu\n",
      "Your name is : Sankeerth\n",
      "Your name is : Vignesh\n",
      "Your Welcome!\n"
     ]
    }
   ],
   "source": [
    "names = [\"Mani\" , \"Jaggu\" , \"Sankeerth\" , \"Vignesh\"]\n",
    "for i in names:\n",
    "    print(\"Your name is :\",i)\n",
    "print(\"Your Welcome!\")"
   ]
  },
  {
   "cell_type": "code",
   "execution_count": 13,
   "id": "0c5ad968-b5bd-4bf7-8ff9-1d7b7cb7af07",
   "metadata": {},
   "outputs": [
    {
     "name": "stdout",
     "output_type": "stream",
     "text": [
      "1\n",
      "3\n",
      "5\n",
      "Loop is over\n"
     ]
    }
   ],
   "source": [
    "#printing the indexes\n",
    "a = [11,22,33,44,55,66]\n",
    "for i in range(1,7,2):\n",
    "    print(i)\n",
    "else:\n",
    "    print(\"Loop is over\")\n",
    "    "
   ]
  },
  {
   "cell_type": "code",
   "execution_count": 15,
   "id": "3a898daa-681e-4400-a40b-2f72284a5d44",
   "metadata": {},
   "outputs": [
    {
     "name": "stdout",
     "output_type": "stream",
     "text": [
      "22\n",
      "44\n",
      "66\n",
      "Loop is over\n"
     ]
    }
   ],
   "source": [
    "#printing the values in the indexes\n",
    "a = [11,22,33,44,55,66]\n",
    "for i in range(1,7,2):\n",
    "    print(a[i])\n",
    "else:\n",
    "    print(\"Loop is over\")\n",
    "    "
   ]
  },
  {
   "cell_type": "code",
   "execution_count": 16,
   "id": "653e84c3-69be-430b-9a32-1f2697689d45",
   "metadata": {},
   "outputs": [
    {
     "name": "stdout",
     "output_type": "stream",
     "text": [
      "22\n",
      "43\n",
      "54\n",
      "54\n"
     ]
    }
   ],
   "source": [
    "numbers = [22,21,11]\n",
    "sum = 0\n",
    "for num in numbers:\n",
    "    sum += num\n",
    "    print(sum)\n",
    "print(sum)"
   ]
  },
  {
   "cell_type": "code",
   "execution_count": 19,
   "id": "ec32b62b-45d6-4ae2-9450-ae84c48d93c5",
   "metadata": {},
   "outputs": [
    {
     "name": "stdout",
     "output_type": "stream",
     "text": [
      "[24, 23, 13]\n"
     ]
    }
   ],
   "source": [
    "getnum = [i + 2 for i in numbers ]\n",
    "print(getnum)"
   ]
  },
  {
   "cell_type": "code",
   "execution_count": 21,
   "id": "972bc7b9-1263-422b-998b-d31783b85491",
   "metadata": {},
   "outputs": [
    {
     "name": "stdout",
     "output_type": "stream",
     "text": [
      "[23, 13]\n"
     ]
    }
   ],
   "source": [
    "getnum = [i + 2 for i in numbers if i<22 ]\n",
    "print(getnum)"
   ]
  },
  {
   "cell_type": "code",
   "execution_count": 22,
   "id": "d058f006-ea28-4bb7-93cf-8348467cdec1",
   "metadata": {},
   "outputs": [
    {
     "name": "stdin",
     "output_type": "stream",
     "text": [
      "Enter a number: 5\n"
     ]
    },
    {
     "name": "stdout",
     "output_type": "stream",
     "text": [
      "Factorial =  120\n"
     ]
    }
   ],
   "source": [
    "num = int(input(\"Enter a number:\"))\n",
    "factorial = 1\n",
    "if num < 0:\n",
    "    print(\"Number must be positive.\")\n",
    "elif num == 0:\n",
    "    print(\"Factorial = 1\")\n",
    "else:\n",
    "    for i in range(1,num+1):\n",
    "        factorial *=i\n",
    "    print(\"Factorial = \",factorial)"
   ]
  },
  {
   "cell_type": "code",
   "execution_count": 29,
   "id": "ee62ed2f-bb20-48e1-bbf7-0d775281e6f5",
   "metadata": {},
   "outputs": [
    {
     "name": "stdout",
     "output_type": "stream",
     "text": [
      "======Continue statement========\n",
      "Animal name is Tiger\n",
      "Animal name is Rabbit\n",
      "Animal name is giraffe\n"
     ]
    }
   ],
   "source": [
    "print(\"======Continue statement========\")\n",
    "animals = [\"Tiger\" , \"Lion\" , \"Rabbit\" , \"giraffe\"]\n",
    "for i in animals:\n",
    "    if len(i) ==4:     #it skips lion bcoz lion length is 4\n",
    "        continue\n",
    "    print(f\"Animal name is {i}\")"
   ]
  },
  {
   "cell_type": "code",
   "execution_count": 31,
   "id": "88b08d1c-7359-4db5-951b-db05379fb742",
   "metadata": {},
   "outputs": [
    {
     "name": "stdout",
     "output_type": "stream",
     "text": [
      "======Pass statement========\n",
      "Animal name is Tiger.\n",
      "Animal name is Lion.\n",
      "Animal name is Rabbit.\n",
      "Animal name is giraffe.\n"
     ]
    }
   ],
   "source": [
    "print(\"======Pass statement========\")\n",
    "for i in animals:\n",
    "    if len(i)==4:\n",
    "        pass\n",
    "    print(f\"Animal name is {i}.\")"
   ]
  },
  {
   "cell_type": "code",
   "execution_count": 33,
   "id": "473a3e50-a0c7-4af5-9b05-28eebb43d963",
   "metadata": {},
   "outputs": [
    {
     "name": "stdout",
     "output_type": "stream",
     "text": [
      "====== Break statement ======\n",
      "Animal name is Tiger.\n"
     ]
    }
   ],
   "source": [
    "print(\"====== Break statement ======\")\n",
    "for i in animals:\n",
    "    if len(i) == 4:\n",
    "        break\n",
    "    print(f\"Animal name is {i}.\")"
   ]
  },
  {
   "cell_type": "code",
   "execution_count": 39,
   "id": "62350e5c-d7e1-4721-8db3-7b59c3b77ad6",
   "metadata": {},
   "outputs": [
    {
     "name": "stdout",
     "output_type": "stream",
     "text": [
      "The list contains even number: 44\n"
     ]
    }
   ],
   "source": [
    "numbers = [1,3,7,44,9]\n",
    "for num in numbers:\n",
    "    if num % 2 ==0:\n",
    "        print(\"The list contains even number:\",num)\n",
    "        break\n",
    "else:\n",
    "    print(\"The list does not contains even number:\",num)\n",
    "        "
   ]
  },
  {
   "cell_type": "code",
   "execution_count": 42,
   "id": "4d2af3f6-af75-4bd3-a941-48b502606414",
   "metadata": {},
   "outputs": [
    {
     "name": "stdout",
     "output_type": "stream",
     "text": [
      "The list does not contain even number\n",
      "The list does not contain even number\n",
      "The list contains an even number: 40\n"
     ]
    }
   ],
   "source": [
    "numbers = [11, 33 , 40 , 55]\n",
    "for  num in numbers:\n",
    "    if num %2 == 0:\n",
    "        print(\"The list contains an even number:\",num)\n",
    "        break\n",
    "    else:\n",
    "        print(\"The list does not contain even number\")"
   ]
  }
 ],
 "metadata": {
  "kernelspec": {
   "display_name": "Python [conda env:anaconda3]",
   "language": "python",
   "name": "conda-env-anaconda3-py"
  },
  "language_info": {
   "codemirror_mode": {
    "name": "ipython",
    "version": 3
   },
   "file_extension": ".py",
   "mimetype": "text/x-python",
   "name": "python",
   "nbconvert_exporter": "python",
   "pygments_lexer": "ipython3",
   "version": "3.13.5"
  }
 },
 "nbformat": 4,
 "nbformat_minor": 5
}
