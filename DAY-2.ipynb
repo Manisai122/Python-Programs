{
 "cells": [
  {
   "cell_type": "markdown",
   "id": "03344630-cef7-4f90-8dd5-c747eda5cbd7",
   "metadata": {},
   "source": [
    "STRING UPDATION"
   ]
  },
  {
   "cell_type": "code",
   "execution_count": 19,
   "id": "ffe57a7e-ca56-414e-ab26-87944335b1d0",
   "metadata": {},
   "outputs": [
    {
     "name": "stdout",
     "output_type": "stream",
     "text": [
      "======= STRING UPDATION ========\n",
      "I am learning Python\n",
      "I am learning Python at 360digiTMG.\n",
      "Hello\n",
      "Updated String:-  I am learning Python at 360digiTMG\n",
      "Updated String:-  I am lat 360digiTMG\n",
      "Hello \n",
      "Mani!\n"
     ]
    }
   ],
   "source": [
    "print(\"======= STRING UPDATION ========\")\n",
    "var1 = \"I am learning Python\"\n",
    "print(var1)\n",
    "print(var1 + \" at 360digiTMG.\")\n",
    "print(\"Hello\")\n",
    "print(\"Updated String:- \",var1 + \" at 360digiTMG\")\n",
    "print(\"Updated String:- \",var1[:6] + \"at 360digiTMG\")\n",
    "print(\"Hello \\nMani!\")"
   ]
  },
  {
   "cell_type": "markdown",
   "id": "29161ee7-6f8c-4d11-9b94-9497457b2c0b",
   "metadata": {},
   "source": [
    "STRING FORMATING"
   ]
  },
  {
   "cell_type": "code",
   "execution_count": 20,
   "id": "3f607078-05c8-4fb6-bab6-a750b8cf1259",
   "metadata": {},
   "outputs": [
    {
     "name": "stdout",
     "output_type": "stream",
     "text": [
      "======= STRING FORMATTING =======\n",
      "Sentence: Mani Sai is 30 years old and 5.7 feet tall.\n",
      "Using format(): Mani Sai is 30 years old and 5.70 feet tall.\n",
      "Named placeholders: Mani Sai is 30 years old and 5.700 feet tall.\n",
      "F-string: Mani Sai is 30 years old and 5.7000 feet tall.\n"
     ]
    }
   ],
   "source": [
    "print(\"======= STRING FORMATTING =======\")\n",
    "name = \"Mani Sai\"\n",
    "age = 30\n",
    "height = 5.7\n",
    "\n",
    "print(\"Sentence: %s is %d years old and %.1f feet tall.\" % (name, age, height))\n",
    "\n",
    "print(\"Using format(): {0} is {1} years old and {2:.2f} feet tall.\".format(name, age, height))\n",
    "\n",
    "print(\"Named placeholders: {name} is {age} years old and {height:.3f} feet tall.\".format(name=name, age=age, height=height))\n",
    "\n",
    "print(f\"F-string: {name} is {age} years old and {height:.4f} feet tall.\")\n",
    "    "
   ]
  },
  {
   "cell_type": "code",
   "execution_count": 21,
   "id": "da508818-e1e4-4e64-a3d2-f80c7c6be765",
   "metadata": {},
   "outputs": [
    {
     "name": "stdin",
     "output_type": "stream",
     "text": [
      "Enter your name: Mani Sai\n",
      "Enter your age: 21\n",
      "Enter your height: 5.4\n"
     ]
    },
    {
     "name": "stdout",
     "output_type": "stream",
     "text": [
      "Sentence:\n",
      "Mani Sai is 21 years old and 5.4 feet tall.\n",
      "Using format():\n",
      "Mani Sai is 21 years old and 5.40 feet tall.\n",
      "Named placeholders:\n",
      "Mani Sai is 21 years old and 5.400 feet tall.\n",
      "F-string:\n",
      "Mani Sai is 21 years old and 5.4000 feet tall.\n"
     ]
    }
   ],
   "source": [
    "name =input(\"Enter your name:\")\n",
    "age = int(input(\"Enter your age:\"))\n",
    "height = float(input(\"Enter your height:\"))\n",
    "\n",
    "print(\"Sentence:\\n%s is %d years old and %.1f feet tall.\" % (name, age, height))\n",
    "\n",
    "print(\"Using format():\\n{0} is {1} years old and {2:.2f} feet tall.\".format(name, age, height))\n",
    "\n",
    "print(\"Named placeholders:\\n{name} is {age} years old and {height:.3f} feet tall.\".format(name=name, age=age, height=height))\n",
    "\n",
    "print(f\"F-string:\\n{name} is {age} years old and {height:.4f} feet tall.\")\n",
    "    "
   ]
  },
  {
   "cell_type": "code",
   "execution_count": 24,
   "id": "ac355405-a885-4047-bba7-d344eee71a2f",
   "metadata": {},
   "outputs": [
    {
     "name": "stdin",
     "output_type": "stream",
     "text": [
      "Enter your name: Mani Sai\n",
      "Enter your age: 21\n",
      "Enter your weight: 56.8\n"
     ]
    },
    {
     "name": "stdout",
     "output_type": "stream",
     "text": [
      "Sentence:\n",
      "My name is Mani Sai and my age is 21 and my weight is 56.80.\n",
      "Using format():\n",
      "Mani Sai is my name and my age is 21 and my weight is 56.80.\n",
      "Named placeholders:\n",
      "Mani Sai is 21 years old and 56.8 kgs.\n",
      "F-String format:\n",
      "Mani Sai is 21 years old and 56.80 kgs.\n"
     ]
    }
   ],
   "source": [
    "name =input(\"Enter your name:\")\n",
    "age = int(input(\"Enter your age:\"))\n",
    "weight = float(input(\"Enter your weight:\"))\n",
    "\n",
    "print(\"Sentence:\\nMy name is %s and my age is %d and my weight is %.2f.\"%(name,age,weight))\n",
    "\n",
    "print(\"Using format():\\n{0} is my name and my age is {1} and my weight is {2:.2f}.\".format(name,age,weight))\n",
    "\n",
    "print(\"Named placeholders:\\n{name} is {age} years old and {weight} kgs.\".format(name=name,age=age,weight=weight))\n",
    "\n",
    "print(f\"F-String format:\\n{name} is {age} years old and {weight:.2f} kgs.\")\n"
   ]
  },
  {
   "cell_type": "code",
   "execution_count": 25,
   "id": "a68ea463-a6ac-498e-b60a-ddb8ee9cd44b",
   "metadata": {},
   "outputs": [
    {
     "name": "stdout",
     "output_type": "stream",
     "text": [
      "The count is:  2\n"
     ]
    }
   ],
   "source": [
    "string= \"Iam a super hero\"\n",
    "substring=\"a\"\n",
    "count=string.count(substring)\n",
    "print(\"The count is: \",count)"
   ]
  },
  {
   "cell_type": "code",
   "execution_count": 31,
   "id": "0e672a6b-b754-405f-8370-c8b4a50ef673",
   "metadata": {},
   "outputs": [
    {
     "name": "stdout",
     "output_type": "stream",
     "text": [
      "16\n",
      "The count is: 2\n"
     ]
    }
   ],
   "source": [
    "string= \"Iam a super hero\"\n",
    "print(len(string))\n",
    "substring=\"a\"\n",
    "\n",
    "count = string.count(substring,1,19)\n",
    "print(\"The count is:\",count)"
   ]
  },
  {
   "cell_type": "code",
   "execution_count": 32,
   "id": "ff798d7d-52da-43ea-94e0-fa0f85764651",
   "metadata": {},
   "outputs": [
    {
     "name": "stdout",
     "output_type": "stream",
     "text": [
      "SPIDER man\n",
      "Spider man\n",
      "SPIDER MAN\n",
      "spider man\n",
      "spider MAN\n"
     ]
    }
   ],
   "source": [
    "Name = \"SPIDER man\"\n",
    "type(Name)\n",
    "print(Name)\n",
    "#String manipulation\n",
    "print(Name.capitalize())\n",
    "print(Name.upper())\n",
    "print(Name.lower())\n",
    "print(Name.swapcase())\n",
    "\n"
   ]
  },
  {
   "cell_type": "code",
   "execution_count": 33,
   "id": "900fdebc-f6fd-492e-8902-f609abdb656a",
   "metadata": {},
   "outputs": [
    {
     "name": "stdout",
     "output_type": "stream",
     "text": [
      "I am an eagle.I can fly high\n",
      "I am an eagle.I can fly high\n",
      "I: :a:m: :a:n: :e:a:g:l:e:.:I: :c:a:n: :f:l:y: :h:i:g:h\n"
     ]
    }
   ],
   "source": [
    "reply = \"I am an eagle.I can fly high\"\n",
    "print(reply.replace(\"is\",\"was\"))\n",
    "print(reply.replace(\"is\",\"was\",2))    #('x','x',number)= number represents how many times to consider\n",
    "print(\":\".join(reply))\n",
    "\n",
    "\n"
   ]
  },
  {
   "cell_type": "markdown",
   "id": "d518fa3d-9ee9-4d76-b2d5-c6c610fef91e",
   "metadata": {},
   "source": [
    "#LIST\n"
   ]
  },
  {
   "cell_type": "code",
   "execution_count": 7,
   "id": "e313e5a9-27ad-4d0f-a720-a69021bafdd2",
   "metadata": {},
   "outputs": [
    {
     "name": "stdout",
     "output_type": "stream",
     "text": [
      "[4, 5, 6]\n"
     ]
    }
   ],
   "source": [
    "list1=[1,2,3,4,5,6,7]\n",
    "print(list1[3:6])"
   ]
  },
  {
   "cell_type": "code",
   "execution_count": 11,
   "id": "da7f826e-1c2a-402c-bab9-e34f46f86dae",
   "metadata": {},
   "outputs": [
    {
     "name": "stdout",
     "output_type": "stream",
     "text": [
      "[11, 22, 'Mani', 'DigiTMG', 'Killer']\n",
      "[11, 22, 'Mani', 'DigiTMG', 'Killer', 2003]\n",
      "2003\n",
      "[11, 22, 'Mani', 'DigiTMG', 'Killer']\n",
      "Killer\n",
      "[11, 22, 'Mani', 'DigiTMG']\n"
     ]
    }
   ],
   "source": [
    "list1 = [11,22,\"Mani\",\"DigiTMG\",\"Madhapur\"]\n",
    "list1[4] = \"Killer\"\n",
    "print(list1)\n",
    "list1.append(2003)\n",
    "print(list1)\n",
    "print(list1.pop())\n",
    "print(list1)\n",
    "print(list1.pop(4))\n",
    "print(list1)"
   ]
  },
  {
   "cell_type": "code",
   "execution_count": 22,
   "id": "e8c3a03b-44da-46be-bafe-839ef83b3435",
   "metadata": {},
   "outputs": [
    {
     "name": "stdout",
     "output_type": "stream",
     "text": [
      "====== Append and Extend =======\n",
      "['Killer', 'Mani', 11, 22, 2003, ['Hyderabad', 'Warangal']]\n",
      "['Killer', 'Mani', 11, 22, 2003, 'Hyderabad', 'Warangal']\n"
     ]
    }
   ],
   "source": [
    "print(\"====== Append and Extend =======\")\n",
    "list1 = [\"Killer\",\"Mani\",11,22,2003]\n",
    "list2 = [\"Hyderabad\",\"Warangal\"]\n",
    "\n",
    "list1.append(list2)\n",
    "print(list1)\n",
    "\n",
    "#Extend\n",
    "list1 = [\"Killer\",\"Mani\",11,22,2003]\n",
    "list2 = [\"Hyderabad\",\"Warangal\"]\n",
    "\n",
    "list1.extend(list2)\n",
    "print(list1)"
   ]
  },
  {
   "cell_type": "code",
   "execution_count": 28,
   "id": "79b7d326-17aa-4818-95a7-c0ecc16c1c70",
   "metadata": {},
   "outputs": [
    {
     "name": "stdout",
     "output_type": "stream",
     "text": [
      "[11, 22, 143, 1122, 2003]\n",
      "[2003, 1122, 143, 22, 11]\n"
     ]
    }
   ],
   "source": [
    "list1 = [11,22,2003,143,1122]\n",
    "list1.sort()\n",
    "print(list1)\n",
    "\n",
    "list1.sort(reverse = True)\n",
    "print(list1)"
   ]
  }
 ],
 "metadata": {
  "kernelspec": {
   "display_name": "Python [conda env:anaconda3]",
   "language": "python",
   "name": "conda-env-anaconda3-py"
  },
  "language_info": {
   "codemirror_mode": {
    "name": "ipython",
    "version": 3
   },
   "file_extension": ".py",
   "mimetype": "text/x-python",
   "name": "python",
   "nbconvert_exporter": "python",
   "pygments_lexer": "ipython3",
   "version": "3.13.5"
  }
 },
 "nbformat": 4,
 "nbformat_minor": 5
}
