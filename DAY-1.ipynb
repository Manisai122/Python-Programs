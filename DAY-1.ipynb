{
 "cells": [
  {
   "cell_type": "code",
   "execution_count": 1,
   "id": "a632a915-ed54-48ac-aa62-dd04e841b713",
   "metadata": {},
   "outputs": [
    {
     "name": "stdout",
     "output_type": "stream",
     "text": [
      "x = 10\n",
      "y = 5\n",
      "name = Python\n",
      "pi = 3.14159\n"
     ]
    }
   ],
   "source": [
    "# Variable declaration\n",
    "x = 10\n",
    "y = 5\n",
    "name = \"Python\"\n",
    "pi = 3.14159\n",
    "\n",
    "print(\"x =\", x)\n",
    "print(\"y =\", y)\n",
    "print(\"name =\", name)\n",
    "print(\"pi =\", pi)\n"
   ]
  },
  {
   "cell_type": "code",
   "execution_count": 3,
   "id": "3a209e92-7983-4c42-b4d6-790d5dff9dda",
   "metadata": {},
   "outputs": [
    {
     "name": "stdout",
     "output_type": "stream",
     "text": [
      "a = 15 b = 4\n",
      "Addition: 19\n",
      "Subtraction: 11\n",
      "Multiplication: 60\n",
      "Division: 3.75\n",
      "Floor Division: 3\n",
      "Modulus: 3\n",
      "Exponent: 50625\n"
     ]
    }
   ],
   "source": [
    "#Arithmetic Operators \n",
    "\n",
    "a = 15\n",
    "b = 4\n",
    "\n",
    "print(\"a =\", a, \"b =\", b)\n",
    "print(\"Addition:\", a + b)        \n",
    "print(\"Subtraction:\", a - b)     \n",
    "print(\"Multiplication:\", a * b)  \n",
    "print(\"Division:\", a / b)        \n",
    "print(\"Floor Division:\", a // b) \n",
    "print(\"Modulus:\", a % b)         \n",
    "print(\"Exponent:\", a ** b)       "
   ]
  },
  {
   "cell_type": "code",
   "execution_count": 15,
   "id": "2ec070db-0360-4f92-a738-8fb2d16d7613",
   "metadata": {},
   "outputs": [
    {
     "name": "stdout",
     "output_type": "stream",
     "text": [
      "x = True\n",
      "y = False\n",
      "Type of x: <class 'bool'>\n",
      "Type of y: <class 'bool'>\n",
      "\n",
      "Boolean with numbers:\n",
      "bool(0) -> False\n",
      "bool(1) -> True\n",
      "bool(-5) -> True\n",
      "bool('') -> False\n",
      "bool('Hello') -> True\n"
     ]
    }
   ],
   "source": [
    "#Boolean Values \n",
    "x = True\n",
    "y = False\n",
    "print(\"x =\", x)\n",
    "print(\"y =\", y)\n",
    "print(\"Type of x:\", type(x))\n",
    "print(\"Type of y:\", type(y))\n",
    "\n",
    "print(\"\\nBoolean with numbers:\")\n",
    "print(\"bool(0) ->\", bool(0))   \n",
    "print(\"bool(1) ->\", bool(1))   \n",
    "print(\"bool(-5) ->\", bool(-5)) \n",
    "print(\"bool('') ->\", bool(\"\")) \n",
    "print(\"bool('Hello') ->\", bool(\"Hello\")) "
   ]
  },
  {
   "cell_type": "code",
   "execution_count": 5,
   "id": "b159f7fc-7e55-431f-8a9a-c04871b65aed",
   "metadata": {},
   "outputs": [
    {
     "name": "stdout",
     "output_type": "stream",
     "text": [
      "p AND q: False\n",
      "p OR q: True\n",
      "NOT p: False\n",
      "NOT q: True\n",
      "\n",
      "Logical with comparisons:\n",
      "a > b and a != b: True\n",
      "a < b or b == 4: True\n",
      "not(a == b): True\n"
     ]
    }
   ],
   "source": [
    "# Logical Operators \n",
    "p = True\n",
    "q = False\n",
    "\n",
    "print(\"p AND q:\", p and q)  \n",
    "print(\"p OR q:\", p or q)    \n",
    "print(\"NOT p:\", not p)      \n",
    "print(\"NOT q:\", not q)      \n",
    "\n",
    "print(\"\\nLogical with comparisons:\")\n",
    "print(\"a > b and a != b:\", a > b and a != b) \n",
    "print(\"a < b or b == 4:\", a < b or b == 4)\n",
    "print(\"not(a == b):\", not (a == b))"
   ]
  },
  {
   "cell_type": "code",
   "execution_count": 17,
   "id": "28dff1cd-1751-4c2d-8b2a-2255f76ac794",
   "metadata": {},
   "outputs": [
    {
     "name": "stdout",
     "output_type": "stream",
     "text": [
      "a == b: False\n",
      "a != b: True\n",
      "a > b: True\n",
      "a < b: False\n",
      "a >= b: True\n",
      "a <= b: False\n",
      "x == y: True\n",
      "x is y: False\n",
      "x is z: True\n",
      "x is not y: True\n",
      "x is not z: False\n"
     ]
    }
   ],
   "source": [
    "#Comparison Operators \n",
    "print(\"a == b:\", a == b)\n",
    "print(\"a != b:\", a != b)\n",
    "print(\"a > b:\", a > b)\n",
    "print(\"a < b:\", a < b)\n",
    "print(\"a >= b:\", a >= b)\n",
    "print(\"a <= b:\", a <= b)\n",
    "\n",
    "x = [1, 2, 3]\n",
    "y = [1, 2, 3]\n",
    "z = x  \n",
    "print(\"x == y:\", x == y)  \n",
    "\n",
    "\n",
    "print(\"x is y:\", x is y)   \n",
    "print(\"x is z:\", x is z)   \n",
    "\n",
    "print(\"x is not y:\", x is not y)\n",
    "print(\"x is not z:\", x is not z)\n"
   ]
  },
  {
   "cell_type": "code",
   "execution_count": 7,
   "id": "c25fd9aa-6524-4447-8125-280af15915c5",
   "metadata": {},
   "outputs": [
    {
     "name": "stdout",
     "output_type": "stream",
     "text": [
      "Initial num: 10\n",
      "After += 5: 15\n",
      "After -= 3: 12\n",
      "After *= 2: 24\n",
      "After /= 4: 6.0\n",
      "After //= 2: 3.0\n",
      "After %= 3: 0.0\n",
      "After **= 4: 0.0\n"
     ]
    }
   ],
   "source": [
    "# Assignment Operators \n",
    "\n",
    "num = 10\n",
    "print(\"Initial num:\", num)\n",
    "\n",
    "num += 5\n",
    "print(\"After += 5:\", num)\n",
    "\n",
    "num -= 3\n",
    "print(\"After -= 3:\", num)\n",
    "\n",
    "num *= 2\n",
    "print(\"After *= 2:\", num)\n",
    "\n",
    "num /= 4\n",
    "print(\"After /= 4:\", num)\n",
    "\n",
    "num //= 2\n",
    "print(\"After //= 2:\", num)\n",
    "\n",
    "num %= 3\n",
    "print(\"After %= 3:\", num)\n",
    "\n",
    "num **= 4\n",
    "print(\"After **= 4:\", num)"
   ]
  },
  {
   "cell_type": "code",
   "execution_count": 13,
   "id": "f2c2aa85-5536-40cf-89cb-0bf23d2be992",
   "metadata": {},
   "outputs": [
    {
     "name": "stdout",
     "output_type": "stream",
     "text": [
      "17 is even? False\n",
      "-8 is positive? False\n",
      "Age between 18 and 30? True\n",
      "Pass? True\n",
      "val after += 10: 15\n",
      "val after *= 2: 30\n",
      "val after -= 7: 23\n"
     ]
    }
   ],
   "source": [
    "# Example 1: Check even or odd\n",
    "num = 17\n",
    "print(num, \"is even?\", num % 2 == 0)\n",
    "\n",
    "# Example 2: Positive or negative\n",
    "num = -8\n",
    "print(num, \"is positive?\", num > 0)\n",
    "\n",
    "# Example 3: Range check\n",
    "age = 21\n",
    "print(\"Age between 18 and 30?\", 18 <= age <= 30)\n",
    "\n",
    "# Example 4: Combining logical\n",
    "marks = 75\n",
    "attendance = 85\n",
    "print(\"Pass?\", marks >= 40 and attendance >= 75)\n",
    "\n",
    "# Example 5: Assignment with logic\n",
    "val = 5\n",
    "val += 10\n",
    "print(\"val after += 10:\", val)\n",
    "\n",
    "val *= 2\n",
    "print(\"val after *= 2:\", val)\n",
    "\n",
    "val -= 7\n",
    "print(\"val after -= 7:\", val)"
   ]
  },
  {
   "cell_type": "code",
   "execution_count": 8,
   "id": "6510a645-9ed3-4fba-b9d0-8eae3b89311c",
   "metadata": {},
   "outputs": [
    {
     "name": "stdout",
     "output_type": "stream",
     "text": [
      "Original text: Hello Python\n",
      "First character: H\n",
      "Last character: n\n",
      "5th character: o\n",
      "First 5 chars: Hello\n",
      "From index 6 to end: Python\n",
      "Full slice: Hello Python\n",
      "Every second char: HloPto\n",
      "Reversed string: nohtyP olleH\n"
     ]
    }
   ],
   "source": [
    "#Strings (Indexing and Slicing)\n",
    "\n",
    "text = \"Hello Python\"\n",
    "print(\"Original text:\", text)\n",
    "\n",
    "# Indexing\n",
    "print(\"First character:\", text[0])\n",
    "print(\"Last character:\", text[-1])\n",
    "print(\"5th character:\", text[4])\n",
    "\n",
    "# Slicing\n",
    "print(\"First 5 chars:\", text[0:5])\n",
    "print(\"From index 6 to end:\", text[6:])\n",
    "print(\"Full slice:\", text[:])\n",
    "print(\"Every second char:\", text[::2])\n",
    "print(\"Reversed string:\", text[::-1])"
   ]
  },
  {
   "cell_type": "code",
   "execution_count": 18,
   "id": "b7674346-f08f-489f-bf47-e0d922b73ea4",
   "metadata": {},
   "outputs": [
    {
     "name": "stdout",
     "output_type": "stream",
     "text": [
      "5 + 2 * 3 = 11\n",
      "(5 + 2) * 3 = 21\n",
      "2 ** 3 * 2 = 16\n",
      "100 / 5 * 2 = 40.0\n",
      "10 - 2 + 3 = 11\n",
      "8 + (3 * 2) ** 2 = 44\n",
      "50 // 6 % 3 = 2\n",
      "(5+3) * (2**2) - 6/3 = 30.0\n"
     ]
    }
   ],
   "source": [
    "#PEMDAS rule\n",
    "\n",
    "a = 5 + 2 * 3\n",
    "print(\"5 + 2 * 3 =\", a)  \n",
    "\n",
    "b = (5 + 2) * 3\n",
    "print(\"(5 + 2) * 3 =\", b) \n",
    "\n",
    "c = 2 ** 3 * 2\n",
    "print(\"2 ** 3 * 2 =\", c)  \n",
    "\n",
    "d = 100 / 5 * 2\n",
    "print(\"100 / 5 * 2 =\", d)  \n",
    "\n",
    "e = 10 - 2 + 3\n",
    "print(\"10 - 2 + 3 =\", e)\n",
    "\n",
    "f = 8 + (3 * 2) ** 2\n",
    "print(\"8 + (3 * 2) ** 2 =\", f)  \n",
    "\n",
    "g = 50 // 6 % 3\n",
    "print(\"50 // 6 % 3 =\", g)\n",
    "\n",
    "h = (5 + 3) * (2 ** 2) - 6 / 3\n",
    "print(\"(5+3) * (2**2) - 6/3 =\", h) "
   ]
  }
 ],
 "metadata": {
  "kernelspec": {
   "display_name": "Python [conda env:anaconda3]",
   "language": "python",
   "name": "conda-env-anaconda3-py"
  },
  "language_info": {
   "codemirror_mode": {
    "name": "ipython",
    "version": 3
   },
   "file_extension": ".py",
   "mimetype": "text/x-python",
   "name": "python",
   "nbconvert_exporter": "python",
   "pygments_lexer": "ipython3",
   "version": "3.13.5"
  }
 },
 "nbformat": 4,
 "nbformat_minor": 5
}
